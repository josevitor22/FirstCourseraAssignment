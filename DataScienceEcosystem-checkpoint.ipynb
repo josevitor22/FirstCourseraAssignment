{
 "cells": [
  {
   "cell_type": "markdown",
   "id": "ff443aee-9e0c-4068-bc49-eebbd88290e4",
   "metadata": {},
   "source": [
    "# Data Science Tools and Ecosystem"
   ]
  },
  {
   "cell_type": "markdown",
   "id": "2ffaa57d-aedf-4a2c-bddd-bbed9a17ca5b",
   "metadata": {},
   "source": [
    "In this notebook, Data Science Tools and Ecosystem are summarized."
   ]
  },
  {
   "cell_type": "markdown",
   "id": "f8d8c31c-c3ce-4592-8dfe-59eb5b75ce8c",
   "metadata": {},
   "source": [
    "**Objectives:**\n",
    "* List most common languages in Data Science\n",
    "* List most common Open Source Data Science Tools\n",
    "* Exemplify arithmetic calculations in Python"
   ]
  },
  {
   "cell_type": "markdown",
   "id": "c42e9fda-3711-43fd-b9e2-8573a876c3e1",
   "metadata": {},
   "source": [
    "Some of the popular languages that Data Scientists use are:\n",
    "1. Python\n",
    "2. R\n",
    "3. SQL\n",
    "4. Julia"
   ]
  },
  {
   "cell_type": "markdown",
   "id": "d82560d4-2c77-4372-b34d-fadc328d1dd0",
   "metadata": {},
   "source": [
    "Some of the commonly used libraries used by Data Scientists include:\n",
    "1. Scikit-learn\n",
    "2. Numpy\n",
    "3. Pandas"
   ]
  },
  {
   "cell_type": "markdown",
   "id": "9eeeac3a-8d6a-4763-9556-9c25e14424d3",
   "metadata": {},
   "source": [
    "| Data Science Tools |\n",
    "|------|\n",
    "| Jupyter Notebook |\n",
    "| Jupyter Lab |\n",
    "| Apache Zeppelin |\n",
    "| R studio |"
   ]
  },
  {
   "cell_type": "markdown",
   "id": "efd231ae-58cb-416c-8a2b-35cd793f28e9",
   "metadata": {},
   "source": [
    "### Below are a few examples of evaluating arithmetic expressions in Python:"
   ]
  },
  {
   "cell_type": "code",
   "execution_count": 7,
   "id": "915a242a-5323-49cd-9bb6-2f044d922fd8",
   "metadata": {},
   "outputs": [
    {
     "data": {
      "text/plain": [
       "17"
      ]
     },
     "execution_count": 7,
     "metadata": {},
     "output_type": "execute_result"
    }
   ],
   "source": [
    "## This a simple arithmetic expression to mutiply then add integers\n",
    "(3*4)+5"
   ]
  },
  {
   "cell_type": "code",
   "execution_count": 11,
   "id": "72dbcf95-bb4e-4e6e-a620-370e053f442c",
   "metadata": {},
   "outputs": [
    {
     "name": "stdout",
     "output_type": "stream",
     "text": [
      "3.3333333333333335\n"
     ]
    }
   ],
   "source": [
    "## This will convert 200 minutes to hours by diving by 60\n",
    "minutes = 200\n",
    "hours = minutes/60\n",
    "print(hours)"
   ]
  },
  {
   "cell_type": "markdown",
   "id": "6a139eb6-82a9-4235-8e5e-817f31f2f9c4",
   "metadata": {},
   "source": [
    "## Author\n",
    "José Vitor"
   ]
  }
 ],
 "metadata": {
  "kernelspec": {
   "display_name": "Python 3 (ipykernel)",
   "language": "python",
   "name": "python3"
  },
  "language_info": {
   "codemirror_mode": {
    "name": "ipython",
    "version": 3
   },
   "file_extension": ".py",
   "mimetype": "text/x-python",
   "name": "python",
   "nbconvert_exporter": "python",
   "pygments_lexer": "ipython3",
   "version": "3.11.7"
  }
 },
 "nbformat": 4,
 "nbformat_minor": 5
}
